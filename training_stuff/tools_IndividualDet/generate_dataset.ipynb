{
 "cells": [
  {
   "cell_type": "code",
   "execution_count": 46,
   "metadata": {},
   "outputs": [
    {
     "name": "stdout",
     "output_type": "stream",
     "text": [
      "Output: /home/wildhorse_project/detectron_pic/black/drone/pajzsika.csv\n",
      "Output: /home/wildhorse_project/detectron_pic/black/drone/panka.csv\n",
      "Output: /home/wildhorse_project/detectron_pic/black/drone/lantos.csv\n",
      "Output: /home/wildhorse_project/detectron_pic/black/drone/marrakesh.csv\n",
      "Output: /home/wildhorse_project/detectron_pic/black/drone/hollo.csv\n",
      "Output: /home/wildhorse_project/detectron_pic/black/drone/vadoc.csv\n",
      "Output: /home/wildhorse_project/detectron_pic/black/drone/gerle.csv\n",
      "Output: /home/wildhorse_project/detectron_pic/black/drone/thetisz.csv\n",
      "Output: /home/wildhorse_project/detectron_pic/black/drone/huba.csv\n",
      "Output: /home/wildhorse_project/detectron_pic/black/drone/villo.csv\n",
      "Output: /home/wildhorse_project/detectron_pic/black/drone/noci.csv\n",
      "Output: /home/wildhorse_project/detectron_pic/black/drone/pinty.csv\n",
      "Output: /home/wildhorse_project/detectron_pic/black/drone/luxus.csv\n",
      "Output: /home/wildhorse_project/detectron_pic/black/drone/emese.csv\n",
      "Output: /home/wildhorse_project/detectron_pic/black/drone/honorka.csv\n",
      "Output: /home/wildhorse_project/detectron_pic/black/drone/szazszorszep.csv\n",
      "Output: /home/wildhorse_project/detectron_pic/black/drone/lilla.csv\n",
      "Output: /home/wildhorse_project/detectron_pic/black/photo/panka.csv\n",
      "Output: /home/wildhorse_project/detectron_pic/black/photo/lantos.csv\n",
      "Output: /home/wildhorse_project/detectron_pic/black/photo/thetisz.csv\n",
      "Output: /home/wildhorse_project/detectron_pic/black/photo/huba.csv\n",
      "Output: /home/wildhorse_project/detectron_pic/black/photo/szazszorszep.csv\n",
      "Output: /home/wildhorse_project/detectron_pic/black/photo/lilla.csv\n"
     ]
    }
   ],
   "source": [
    "# The results will be shown in \"individual_path\" folder\n",
    "# Structure must look like the following\n",
    "# The 3rd level of the tree should be named after the individuals, These directories are the picture containers \n",
    "\n",
    "#EXAMPLE\n",
    "# black\n",
    "# ├── camera\n",
    "# │   ├── <individual_5_dir>\n",
    "# │   ├── <individual_6_dir>\n",
    "# │   └── <individual_1_dir>\n",
    "# ├── drone\n",
    "# │   ├── <individual_1_dir>\n",
    "# │   ├── <individual_2_dir>\n",
    "# │   └── <individual_.._dir>\n",
    "# ├── photo\n",
    "# │   ├── <individual_.._dir>\n",
    "# │   ├── <individual_1_dir>\n",
    "# │   └── <individual_6_dir>\n",
    "# ├── all_individual.json\n",
    "# └── generate_database.py\n",
    "\n",
    "import pandas as pd\n",
    "import os\n",
    "import csv\n",
    "\n",
    "# MUST MODIFY VARIABLES\n",
    "root_folder = \"/home/wildhorse_project/detectron_pic/black\"\n",
    "json_path = \"/home/wildhorse_project/detectron_pic/black/all_individual.json\"\n",
    "\n",
    "# Read individual json files to determine the id and dinamically create database according to folders\n",
    "Type = root_folder.split('/')[-1]\n",
    "json_df = pd.DataFrame(pd.read_json(json_path,typ='series'), columns=['Id'])\n",
    "json_df['Name'] = json_df.index.str.lower()\n",
    "json_df = json_df.set_index(['Id'])\n",
    "\n",
    "types = os.listdir(root_folder)\n",
    "for dir_name in types:\n",
    "    type_name = dir_name\n",
    "    dir_name = root_folder + \"/\" + dir_name\n",
    "    if os.path.isdir(dir_name):\n",
    "        list_of_files = os.listdir(dir_name)\n",
    "        for directory in list_of_files:\n",
    "            list_of_dirs = ['Path,Individual,ID,Type,Record,VideoID']\n",
    "            individual_name = directory\n",
    "            directory = individual_path + \"/\" + type_name + \"/\" + directory\n",
    "            if os.path.isdir(directory):\n",
    "                ID = str(json_df.loc[json_df['Name'] == individual_name].index[0])\n",
    "                file_list = os.listdir(directory)\n",
    "                for files in file_list:\n",
    "                    VideoID = str(files.split('_')[1]).zfill(4)\n",
    "                    list_of_dirs.append(directory + \"/\" + files + \",\" + individual_name + \",\" + ID + \",\" + Type + \",\" + type_name + \",\" + VideoID)\n",
    "                output_file_path = root_folder + \"/\" + type_name + \"/\" + individual_name + \".csv\"\n",
    "                with open(output_file_path, 'w', newline='') as myfile:\n",
    "                    wr = csv.writer(myfile, quoting=csv.QUOTE_NONE, delimiter='\\n', quotechar='')\n",
    "                    wr.writerow(list_of_dirs)\n",
    "                    print(\"Output: \" + output_file_path)\n"
   ]
  },
  {
   "cell_type": "code",
   "execution_count": null,
   "metadata": {},
   "outputs": [],
   "source": []
  },
  {
   "cell_type": "code",
   "execution_count": null,
   "metadata": {},
   "outputs": [],
   "source": []
  }
 ],
 "metadata": {
  "kernelspec": {
   "display_name": "Python 3",
   "language": "python",
   "name": "python3"
  },
  "language_info": {
   "codemirror_mode": {
    "name": "ipython",
    "version": 3
   },
   "file_extension": ".py",
   "mimetype": "text/x-python",
   "name": "python",
   "nbconvert_exporter": "python",
   "pygments_lexer": "ipython3",
   "version": "3.7.6"
  }
 },
 "nbformat": 4,
 "nbformat_minor": 4
}
