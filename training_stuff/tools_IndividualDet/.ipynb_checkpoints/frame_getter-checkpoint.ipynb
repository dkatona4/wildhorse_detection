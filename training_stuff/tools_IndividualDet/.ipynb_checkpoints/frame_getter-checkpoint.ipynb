{
 "cells": [
  {
   "cell_type": "code",
   "execution_count": 16,
   "metadata": {},
   "outputs": [
    {
     "name": "stdout",
     "output_type": "stream",
     "text": [
      "/home/wildhorse_project/Individual_recordings/Emese/Emese_0027.MOV\n",
      "/home/wildhorse_project/Individual_recordings/Emese/Emese_0031.MOV\n",
      "/home/wildhorse_project/Individual_recordings/Emese/Emese_0048.MOV\n",
      "/home/wildhorse_project/Individual_recordings/Emese/Emese_0029.MOV\n",
      "/home/wildhorse_project/Individual_recordings/Emese/Emese_0033.MOV\n",
      "/home/wildhorse_project/Individual_recordings/Emese/Emese_0038.MOV\n",
      "/home/wildhorse_project/Individual_recordings/Emese/Emese_0036.MOV\n",
      "/home/wildhorse_project/Individual_recordings/Emese/Emese_0028.MOV\n",
      "/home/wildhorse_project/Individual_recordings/Emese/Emese_0026.MOV\n",
      "/home/wildhorse_project/Individual_recordings/Emese/Emese_0032.MOV\n",
      "/home/wildhorse_project/Individual_recordings/Emese/Emese_0030.MOV\n",
      "/home/wildhorse_project/Individual_recordings/Emese/Emese_0034.MOV\n",
      "/home/wildhorse_project/Individual_recordings/Emese/Emese_0035.MOV\n",
      "/home/wildhorse_project/Individual_recordings/Emese/Emese_0047.MOV\n",
      "/home/wildhorse_project/Individual_recordings/Emese/Emese_0037.MOV\n"
     ]
    }
   ],
   "source": [
    "import cv2\n",
    "import csv\n",
    "import random\n",
    "import numpy as np \n",
    "import os.path\n",
    "\n",
    "\n",
    "dir_path = '/home/wildhorse_project/Individual_recordings/Emese/'\n",
    "tempo = os.listdir(dir_path)\n",
    "for i in tempo:\n",
    "    video_path = dir_path + i\n",
    "    print(video_path)\n",
    "    #video_path = '/home/wildhorse_project/Individual_recordings/Emese/Emese_0027.MOV'\n",
    "    base_video_name = os.path.basename(video_path).split('.')[0]\n",
    "    vidcap = cv2.VideoCapture(video_path)\n",
    "\n",
    "    success,image = vidcap.read()\n",
    "\n",
    "    total_frame = int(vidcap.get(cv2.CAP_PROP_FRAME_COUNT))\n",
    "    random_gen = round(total_frame*0.1)         # always 10 percent\n",
    "    print(random_gen)\n",
    "    #random_gen = 200\n",
    "\n",
    "    rand_array = random.sample(range(0, total_frame), random_gen)\n",
    "    rand_array.sort()\n",
    "    count = 0\n",
    "    row_counter = 0\n",
    "\n",
    "    while success:\n",
    "        if rand_array[row_counter] == count:\n",
    "            filename = \"/home/wildhorse_project/detectron_pic/Emese/\" + base_video_name + \"_\" + str(count) + \".jpg\"\n",
    "            cv2.imwrite(filename, image)      \n",
    "            row_counter += 1\n",
    "            print(filename,\" DONE\")\n",
    "        success,image = vidcap.read()\n",
    "        count += 1\n",
    "        if row_counter == len(rand_array):\n",
    "            break\n",
    "    print(\"MEGADONE\")\n",
    "    \n",
    "\n"
   ]
  },
  {
   "cell_type": "code",
   "execution_count": null,
   "metadata": {},
   "outputs": [],
   "source": []
  },
  {
   "cell_type": "code",
   "execution_count": null,
   "metadata": {},
   "outputs": [],
   "source": []
  }
 ],
 "metadata": {
  "kernelspec": {
   "display_name": "RETINANET",
   "language": "python",
   "name": "retinanet"
  },
  "language_info": {
   "codemirror_mode": {
    "name": "ipython",
    "version": 3
   },
   "file_extension": ".py",
   "mimetype": "text/x-python",
   "name": "python",
   "nbconvert_exporter": "python",
   "pygments_lexer": "ipython3",
   "version": "3.7.9"
  }
 },
 "nbformat": 4,
 "nbformat_minor": 4
}
